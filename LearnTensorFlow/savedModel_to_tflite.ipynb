{
  "nbformat": 4,
  "nbformat_minor": 0,
  "metadata": {
    "colab": {
      "provenance": [],
      "authorship_tag": "ABX9TyM9JR+t9ueYuXMHhcmEWLsl",
      "include_colab_link": true
    },
    "kernelspec": {
      "name": "python3",
      "display_name": "Python 3"
    },
    "language_info": {
      "name": "python"
    }
  },
  "cells": [
    {
      "cell_type": "markdown",
      "metadata": {
        "id": "view-in-github",
        "colab_type": "text"
      },
      "source": [
        "<a href=\"https://colab.research.google.com/github/chanakyavasantha/ML_Algorithms/blob/main/LearnTensorFlow/savedModel_to_tflite.ipynb\" target=\"_parent\"><img src=\"https://colab.research.google.com/assets/colab-badge.svg\" alt=\"Open In Colab\"/></a>"
      ]
    },
    {
      "cell_type": "code",
      "execution_count": 12,
      "metadata": {
        "colab": {
          "base_uri": "https://localhost:8080/"
        },
        "id": "JtpjPzrJPWuk",
        "outputId": "edb75b2c-26d3-4e65-99ae-d4579dfd4819"
      },
      "outputs": [
        {
          "output_type": "stream",
          "name": "stdout",
          "text": [
            "Drive already mounted at /content/drive; to attempt to forcibly remount, call drive.mount(\"/content/drive\", force_remount=True).\n"
          ]
        },
        {
          "output_type": "stream",
          "name": "stderr",
          "text": [
            "WARNING:absl:Found untraced functions such as _update_step_xla, lstm_cell_2_layer_call_fn, lstm_cell_2_layer_call_and_return_conditional_losses while saving (showing 3 of 3). These functions will not be directly callable after loading.\n"
          ]
        }
      ],
      "source": [
        "from google.colab import drive\n",
        "import os\n",
        "import tensorflow as tf\n",
        "drive.mount('/content/drive')\n",
        "model_dir = '/content/drive/My Drive/saved_model/moni_model'\n",
        "os.makedirs(model_dir, exist_ok=True)\n",
        "model = tf.keras.models.load_model('/content/drive/My Drive/saved_model/moni_model')\n",
        "converter = tf.lite.TFLiteConverter.from_keras_model(model)\n",
        "converter.experimental_lower_tensor_list_ops = False\n",
        "converter.target_spec.supported_ops = [tf.lite.OpsSet.TFLITE_BUILTINS, tf.lite.OpsSet.SELECT_TF_OPS]\n",
        "tflite_model = converter.convert()\n",
        "\n",
        "# Save the model.\n",
        "with open('model_lstm_without_time.tflite', 'wb') as f:\n",
        "  f.write(tflite_model)"
      ]
    }
  ]
}
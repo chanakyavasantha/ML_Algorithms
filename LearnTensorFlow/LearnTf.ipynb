{
  "nbformat": 4,
  "nbformat_minor": 0,
  "metadata": {
    "colab": {
      "provenance": [],
      "authorship_tag": "ABX9TyMGb02KKibp/oQ+ijnXJz1T",
      "include_colab_link": true
    },
    "kernelspec": {
      "name": "python3",
      "display_name": "Python 3"
    },
    "language_info": {
      "name": "python"
    }
  },
  "cells": [
    {
      "cell_type": "markdown",
      "metadata": {
        "id": "view-in-github",
        "colab_type": "text"
      },
      "source": [
        "<a href=\"https://colab.research.google.com/github/chanakyavasantha/ML_Algorithms/blob/main/LearnTensorFlow/LearnTf.ipynb\" target=\"_parent\"><img src=\"https://colab.research.google.com/assets/colab-badge.svg\" alt=\"Open In Colab\"/></a>"
      ]
    },
    {
      "cell_type": "code",
      "execution_count": null,
      "metadata": {
        "colab": {
          "base_uri": "https://localhost:8080/"
        },
        "id": "sxvvh-L5ykhQ",
        "outputId": "42d0d3bf-2c1a-4121-f579-92567a39c740"
      },
      "outputs": [
        {
          "output_type": "stream",
          "name": "stdout",
          "text": [
            "2.12.0\n"
          ]
        }
      ],
      "source": [
        "import tensorflow as tf\n",
        "print(tf.__version__)"
      ]
    },
    {
      "cell_type": "code",
      "source": [
        "# initialzation of tensors\n",
        "x = tf.constant(4)\n",
        "print(x)\n",
        "y = tf.constant(4,shape = (1,1), dtype = tf.float32)\n",
        "print(y)\n",
        "z = tf.ones((3,3))\n",
        "print(z)\n",
        "w = tf.zeros((2,3))\n",
        "print(w)\n",
        "a = tf.random.normal((3,3),mean = 0, stddev=1)\n",
        "print(a)\n",
        "b = tf.random.uniform((1,3),minval = 0,maxval = 1)\n",
        "print(b)\n",
        "c = tf.range(start = 1,limit = 10, delta = 2)\n",
        "print(c)"
      ],
      "metadata": {
        "colab": {
          "base_uri": "https://localhost:8080/"
        },
        "id": "lUaX3I9_yshE",
        "outputId": "9e0b2b75-0716-4c99-c7fd-8d42e6a90c22"
      },
      "execution_count": null,
      "outputs": [
        {
          "output_type": "stream",
          "name": "stdout",
          "text": [
            "tf.Tensor(4, shape=(), dtype=int32)\n",
            "tf.Tensor([[4.]], shape=(1, 1), dtype=float32)\n",
            "tf.Tensor(\n",
            "[[1. 1. 1.]\n",
            " [1. 1. 1.]\n",
            " [1. 1. 1.]], shape=(3, 3), dtype=float32)\n",
            "tf.Tensor(\n",
            "[[0. 0. 0.]\n",
            " [0. 0. 0.]], shape=(2, 3), dtype=float32)\n",
            "tf.Tensor(\n",
            "[[ 0.79880685  1.5896864  -0.33045202]\n",
            " [-1.7538661  -0.940934   -1.4052567 ]\n",
            " [-0.48841637 -0.8434778  -0.72920024]], shape=(3, 3), dtype=float32)\n",
            "tf.Tensor([[0.3687209  0.12658632 0.65064085]], shape=(1, 3), dtype=float32)\n",
            "tf.Tensor([1 3 5 7 9], shape=(5,), dtype=int32)\n"
          ]
        }
      ]
    },
    {
      "cell_type": "code",
      "source": [
        "# casting tensors\n",
        "x = tf.cast(x, dtype = tf.float16)\n",
        "print(x)"
      ],
      "metadata": {
        "colab": {
          "base_uri": "https://localhost:8080/"
        },
        "id": "ndWjqjQ1ysj6",
        "outputId": "4634a79c-ebd9-4ddd-dc79-0c4b93e14993"
      },
      "execution_count": null,
      "outputs": [
        {
          "output_type": "stream",
          "name": "stdout",
          "text": [
            "tf.Tensor(4.0, shape=(), dtype=float16)\n"
          ]
        }
      ]
    },
    {
      "cell_type": "code",
      "source": [
        "# mathematical Operations on tensors\n",
        "x = tf.constant([1,2,3])\n",
        "y = tf.constant([9,8,7])\n",
        "z = tf.add(x,y)\n",
        "print(z)\n",
        "# or z = x + y\n",
        "\n",
        "# similiarly we can perform subtraction , multiplication, division"
      ],
      "metadata": {
        "colab": {
          "base_uri": "https://localhost:8080/"
        },
        "id": "aEQx75VmysnD",
        "outputId": "ff188ada-40c8-4791-805c-1f401a616f23"
      },
      "execution_count": null,
      "outputs": [
        {
          "output_type": "stream",
          "name": "stdout",
          "text": [
            "tf.Tensor([10 10 10], shape=(3,), dtype=int32)\n"
          ]
        }
      ]
    },
    {
      "cell_type": "code",
      "source": [
        "# we can do matrix multiplication\n",
        "x = tf.random.normal((2,3))\n",
        "y = tf.random.normal((3,4))\n",
        "z = tf.matmul(x,y)\n",
        "print(z)\n",
        "z = x @ y\n",
        "print(z)\n"
      ],
      "metadata": {
        "colab": {
          "base_uri": "https://localhost:8080/"
        },
        "id": "1zkOqPUz0Ttt",
        "outputId": "2f07abfe-8c79-45b7-dcdf-6b6bb090f510"
      },
      "execution_count": null,
      "outputs": [
        {
          "output_type": "stream",
          "name": "stdout",
          "text": [
            "tf.Tensor(\n",
            "[[ 0.29081     2.1970232   5.370161   -1.400056  ]\n",
            " [ 0.31100243  0.7083168   0.90736175  0.1811533 ]], shape=(2, 4), dtype=float32)\n",
            "tf.Tensor(\n",
            "[[ 0.29081     2.1970232   5.370161   -1.400056  ]\n",
            " [ 0.31100243  0.7083168   0.90736175  0.1811533 ]], shape=(2, 4), dtype=float32)\n"
          ]
        }
      ]
    },
    {
      "cell_type": "code",
      "source": [
        "# indexing a tensor\n",
        "x = tf.constant([0,1,1,2,3,1,2,3])\n",
        "print(x[:])\n",
        "print(x[1:])\n",
        "print(x[1:3])\n",
        "indices = tf.constant([0,2])\n",
        "x_ind = tf.gather(x,indices)\n",
        "print(x_ind)\n",
        "x = tf.constant([[1,2],\n",
        "                [3,4]])\n",
        "print(x[0:2,:])"
      ],
      "metadata": {
        "colab": {
          "base_uri": "https://localhost:8080/"
        },
        "id": "lTqbrDcB0TxM",
        "outputId": "ff5f41d0-ae2c-4566-cd98-b2ca61c2d50f"
      },
      "execution_count": null,
      "outputs": [
        {
          "output_type": "stream",
          "name": "stdout",
          "text": [
            "tf.Tensor([0 1 1 2 3 1 2 3], shape=(8,), dtype=int32)\n",
            "tf.Tensor([1 1 2 3 1 2 3], shape=(7,), dtype=int32)\n",
            "tf.Tensor([1 1], shape=(2,), dtype=int32)\n",
            "tf.Tensor([0 1], shape=(2,), dtype=int32)\n",
            "tf.Tensor(\n",
            "[[1 2]\n",
            " [3 4]], shape=(2, 2), dtype=int32)\n"
          ]
        }
      ]
    },
    {
      "cell_type": "code",
      "source": [
        "# keras and functional api\n",
        "from tensorflow.keras.datasets import mnist\n",
        "(x_train, y_train), (x_test, y_test) = mnist.load_data()\n",
        "print(x_train.shape)\n",
        "print(y_train.shape)"
      ],
      "metadata": {
        "colab": {
          "base_uri": "https://localhost:8080/"
        },
        "id": "rMwj3xF8-f6d",
        "outputId": "0c74f331-715b-4bdb-f2a6-609fd66e1a4f"
      },
      "execution_count": null,
      "outputs": [
        {
          "output_type": "stream",
          "name": "stdout",
          "text": [
            "Downloading data from https://storage.googleapis.com/tensorflow/tf-keras-datasets/mnist.npz\n",
            "11490434/11490434 [==============================] - 0s 0us/step\n",
            "(60000, 28, 28)\n",
            "(60000,)\n"
          ]
        }
      ]
    },
    {
      "cell_type": "code",
      "source": [
        "# flatten x_train to train neural network\n",
        "x_train = x_train.reshape(-1, 28*28).astype(\"float32\")/255.0\n",
        "x_test = x_test.reshape(-1, 28*28).astype(\"float32\")/255.0"
      ],
      "metadata": {
        "id": "SRYtGKpsA0SV"
      },
      "execution_count": null,
      "outputs": []
    },
    {
      "cell_type": "code",
      "source": [
        "from keras.engine.training import optimizer\n",
        "# sequential one to one output\n",
        "from tensorflow import keras\n",
        "from tensorflow.keras import layers\n",
        "model = keras.Sequential(\n",
        "    [\n",
        "        keras.Input(shape = (28*28)),\n",
        "        layers.Dense(512,activation = 'relu'),\n",
        "        layers.Dense(256, activation = 'relu'),\n",
        "        layers.Dense(10),\n",
        "    ]\n",
        ")\n",
        "\n",
        "model.compile(\n",
        "    loss='categorical_crossentropy',\n",
        "    optimizer='adam',\n",
        "    metrics = )\n",
        "model.compile(\n",
        "    loss = keras.losses.SparseCategoricalCrossentropy(from_logits =True),\n",
        "    optimizer = keras.optimizers.Adam(lr = 0.001),\n",
        "    metrics = [\"accuracy\"],\n",
        ")\n",
        "model.fit(x_train, y_train, batch_size = 32, epochs=5,verbose = 2)\n",
        "model.evaluate(x_test, y_test, batch_size = 32, verbose = 2)\n",
        "\n"
      ],
      "metadata": {
        "colab": {
          "base_uri": "https://localhost:8080/"
        },
        "id": "XyeT89a6A0U0",
        "outputId": "075bad5a-9f1e-45ed-c47f-c0c6d8ac6998"
      },
      "execution_count": null,
      "outputs": [
        {
          "output_type": "stream",
          "name": "stderr",
          "text": [
            "WARNING:absl:`lr` is deprecated in Keras optimizer, please use `learning_rate` or use the legacy optimizer, e.g.,tf.keras.optimizers.legacy.Adam.\n"
          ]
        },
        {
          "output_type": "stream",
          "name": "stdout",
          "text": [
            "Epoch 1/5\n",
            "1875/1875 - 17s - loss: 0.1860 - accuracy: 0.9433 - 17s/epoch - 9ms/step\n",
            "Epoch 2/5\n",
            "1875/1875 - 16s - loss: 0.0813 - accuracy: 0.9747 - 16s/epoch - 9ms/step\n",
            "Epoch 3/5\n",
            "1875/1875 - 17s - loss: 0.0550 - accuracy: 0.9826 - 17s/epoch - 9ms/step\n",
            "Epoch 4/5\n",
            "1875/1875 - 16s - loss: 0.0418 - accuracy: 0.9863 - 16s/epoch - 8ms/step\n",
            "Epoch 5/5\n",
            "1875/1875 - 19s - loss: 0.0325 - accuracy: 0.9895 - 19s/epoch - 10ms/step\n",
            "313/313 - 1s - loss: 0.0778 - accuracy: 0.9782 - 962ms/epoch - 3ms/step\n"
          ]
        },
        {
          "output_type": "execute_result",
          "data": {
            "text/plain": [
              "[0.07780319452285767, 0.9782000184059143]"
            ]
          },
          "metadata": {},
          "execution_count": 38
        }
      ]
    },
    {
      "cell_type": "code",
      "source": [
        "print(model.summary())"
      ],
      "metadata": {
        "colab": {
          "base_uri": "https://localhost:8080/"
        },
        "id": "q3WT7Jq0A0Xi",
        "outputId": "faf57afc-6f17-4995-9996-217e0ab077d2"
      },
      "execution_count": null,
      "outputs": [
        {
          "output_type": "stream",
          "name": "stdout",
          "text": [
            "Model: \"sequential_3\"\n",
            "_________________________________________________________________\n",
            " Layer (type)                Output Shape              Param #   \n",
            "=================================================================\n",
            " dense_8 (Dense)             (None, 512)               401920    \n",
            "                                                                 \n",
            " dense_9 (Dense)             (None, 256)               131328    \n",
            "                                                                 \n",
            " dense_10 (Dense)            (None, 10)                2570      \n",
            "                                                                 \n",
            "=================================================================\n",
            "Total params: 535,818\n",
            "Trainable params: 535,818\n",
            "Non-trainable params: 0\n",
            "_________________________________________________________________\n",
            "None\n"
          ]
        }
      ]
    },
    {
      "cell_type": "code",
      "source": [
        "# Functional API is more flexible\n",
        "inputs = keras.Input(shape = (28*28))\n",
        "x = layers.Dense(512, activation = 'relu')(inputs)\n",
        "x = layers.Dense(256, activation = 'relu')(x)\n",
        "outputs = layers.Dense(10, activation = 'softmax')(x)\n",
        "model = keras.Model(inputs = inputs , outputs = outputs)\n",
        "model.compile(\n",
        "    loss = keras.losses.SparseCategoricalCrossentropy(from_logits =True),\n",
        "    optimizer = keras.optimizers.Adam(lr = 0.001),\n",
        "    metrics = [\"accuracy\"],\n",
        ")\n",
        "model.fit(x_train, y_train, batch_size = 32, epochs=5,verbose = 2)\n",
        "model.evaluate(x_test, y_test, batch_size = 32, verbose = 2)\n"
      ],
      "metadata": {
        "colab": {
          "base_uri": "https://localhost:8080/"
        },
        "id": "IqFBKoIoA0bH",
        "outputId": "ebe54619-5817-4ddb-eeef-e4ddb5ce7a93"
      },
      "execution_count": null,
      "outputs": [
        {
          "output_type": "stream",
          "name": "stderr",
          "text": [
            "WARNING:absl:`lr` is deprecated in Keras optimizer, please use `learning_rate` or use the legacy optimizer, e.g.,tf.keras.optimizers.legacy.Adam.\n"
          ]
        },
        {
          "output_type": "stream",
          "name": "stdout",
          "text": [
            "Epoch 1/5\n"
          ]
        },
        {
          "output_type": "stream",
          "name": "stderr",
          "text": [
            "/usr/local/lib/python3.10/dist-packages/keras/backend.py:5612: UserWarning: \"`sparse_categorical_crossentropy` received `from_logits=True`, but the `output` argument was produced by a Softmax activation and thus does not represent logits. Was this intended?\n",
            "  output, from_logits = _get_logits(\n"
          ]
        },
        {
          "output_type": "stream",
          "name": "stdout",
          "text": [
            "1875/1875 - 18s - loss: 0.1862 - accuracy: 0.9426 - 18s/epoch - 10ms/step\n",
            "Epoch 2/5\n",
            "1875/1875 - 17s - loss: 0.0815 - accuracy: 0.9749 - 17s/epoch - 9ms/step\n",
            "Epoch 3/5\n",
            "1875/1875 - 17s - loss: 0.0555 - accuracy: 0.9824 - 17s/epoch - 9ms/step\n",
            "Epoch 4/5\n",
            "1875/1875 - 17s - loss: 0.0428 - accuracy: 0.9861 - 17s/epoch - 9ms/step\n",
            "Epoch 5/5\n",
            "1875/1875 - 16s - loss: 0.0328 - accuracy: 0.9894 - 16s/epoch - 9ms/step\n",
            "313/313 - 1s - loss: 0.0831 - accuracy: 0.9770 - 1s/epoch - 5ms/step\n"
          ]
        },
        {
          "output_type": "execute_result",
          "data": {
            "text/plain": [
              "[0.08309361338615417, 0.9769999980926514]"
            ]
          },
          "metadata": {},
          "execution_count": 42
        }
      ]
    },
    {
      "cell_type": "code",
      "source": [
        "model.summary()"
      ],
      "metadata": {
        "colab": {
          "base_uri": "https://localhost:8080/"
        },
        "id": "nI4qEGH4IaLB",
        "outputId": "d2dc8651-7487-4ca7-80ce-e0c8898b5af3"
      },
      "execution_count": null,
      "outputs": [
        {
          "output_type": "stream",
          "name": "stdout",
          "text": [
            "Model: \"model\"\n",
            "_________________________________________________________________\n",
            " Layer (type)                Output Shape              Param #   \n",
            "=================================================================\n",
            " input_4 (InputLayer)        [(None, 784)]             0         \n",
            "                                                                 \n",
            " dense_17 (Dense)            (None, 512)               401920    \n",
            "                                                                 \n",
            " dense_18 (Dense)            (None, 256)               131328    \n",
            "                                                                 \n",
            " dense_19 (Dense)            (None, 10)                2570      \n",
            "                                                                 \n",
            "=================================================================\n",
            "Total params: 535,818\n",
            "Trainable params: 535,818\n",
            "Non-trainable params: 0\n",
            "_________________________________________________________________\n"
          ]
        }
      ]
    },
    {
      "cell_type": "code",
      "source": [
        "pred = model.predict(x_train)\n",
        "print(*pred[0] , end = \" \")"
      ],
      "metadata": {
        "colab": {
          "base_uri": "https://localhost:8080/"
        },
        "id": "LLCCBWtBIsHi",
        "outputId": "286ac663-c144-4065-876d-dfef229b9cec"
      },
      "execution_count": null,
      "outputs": [
        {
          "output_type": "stream",
          "name": "stdout",
          "text": [
            "1875/1875 [==============================] - 7s 4ms/step\n",
            "1.3877073e-20 1.490865e-11 1.9312456e-14 0.0011821645 1.30787926e-20 0.99881786 2.5669162e-18 1.1780943e-15 1.8641824e-13 2.079765e-09 "
          ]
        }
      ]
    },
    {
      "cell_type": "code",
      "source": [
        "ans = pred[0][0]\n",
        "ansIndex = 0\n",
        "for i in range(len(pred[0])):\n",
        "  if pred[0][i] > ans:\n",
        "    ans = pred[0][i]\n",
        "    ansIndex = i\n",
        "print(ansIndex)\n",
        "print(\"There fore the output cell represents the probabilites of each class\")"
      ],
      "metadata": {
        "colab": {
          "base_uri": "https://localhost:8080/"
        },
        "id": "guhePxwWJjUt",
        "outputId": "d52aa9e3-4c93-4cf4-bb6d-80ce12bf78f4"
      },
      "execution_count": null,
      "outputs": [
        {
          "output_type": "stream",
          "name": "stdout",
          "text": [
            "5\n",
            "There fore the output cell represents the probabilites of each class\n"
          ]
        }
      ]
    },
    {
      "cell_type": "code",
      "source": [
        "# implementing other optimizers\n",
        "# sgd with momentum, adagrad, RMSprop"
      ],
      "metadata": {
        "id": "7U3S79-SIsKX"
      },
      "execution_count": null,
      "outputs": []
    },
    {
      "cell_type": "code",
      "source": [
        "# observing difference on removing normalization of data"
      ],
      "metadata": {
        "id": "cTvE64CmIsNG"
      },
      "execution_count": null,
      "outputs": []
    },
    {
      "cell_type": "code",
      "source": [],
      "metadata": {
        "id": "GgEsCSNMIsP1"
      },
      "execution_count": null,
      "outputs": []
    },
    {
      "cell_type": "code",
      "source": [],
      "metadata": {
        "id": "xUdbWSaXIsSZ"
      },
      "execution_count": null,
      "outputs": []
    },
    {
      "cell_type": "code",
      "source": [],
      "metadata": {
        "id": "53oRe7hYIsU5"
      },
      "execution_count": null,
      "outputs": []
    },
    {
      "cell_type": "code",
      "source": [],
      "metadata": {
        "id": "YAjDCsfKIsXE"
      },
      "execution_count": null,
      "outputs": []
    },
    {
      "cell_type": "code",
      "source": [],
      "metadata": {
        "id": "e6Pn05YDIsam"
      },
      "execution_count": null,
      "outputs": []
    }
  ]
}